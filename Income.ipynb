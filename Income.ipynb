{
 "cells": [
  {
   "cell_type": "code",
   "execution_count": 10,
   "metadata": {
    "collapsed": false
   },
   "outputs": [
    {
     "name": "stdout",
     "output_type": "stream",
     "text": [
      "Using cached version of spark-kernel-brunel-all-1.1.jar\n"
     ]
    }
   ],
   "source": [
    "%addjar --magic http://www.brunelvis.org/jar/spark-kernel-brunel-all-1.1.jar"
   ]
  },
  {
   "cell_type": "code",
   "execution_count": 11,
   "metadata": {
    "collapsed": false
   },
   "outputs": [],
   "source": [
    "val sql = sqlContext\n",
    "import sql.implicits._\n",
    "import java.sql.Date\n",
    "import java.time._, format._\n",
    "import org.apache.spark.sql.functions._"
   ]
  },
  {
   "cell_type": "code",
   "execution_count": 99,
   "metadata": {
    "collapsed": false
   },
   "outputs": [],
   "source": [
    "val input = sc.textFile(\"input/transactions.tab\")\n",
    "val tabSeparated = input.map(_.split(\"\\\\t\"))"
   ]
  },
  {
   "cell_type": "code",
   "execution_count": 50,
   "metadata": {
    "collapsed": false
   },
   "outputs": [],
   "source": [
    "case class Transaction(\n",
    "  date: Date,\n",
    "  amount: BigDecimal,\n",
    "  comment: String  \n",
    ")"
   ]
  },
  {
   "cell_type": "code",
   "execution_count": 100,
   "metadata": {
    "collapsed": false
   },
   "outputs": [],
   "source": [
    "val transactions = {\n",
    "    tabSeparated.map { row =>\n",
    "        val formatter = DateTimeFormatter.ofPattern(\"yyyyMMdd\")\n",
    "        Transaction(\n",
    "            date = Date valueOf LocalDate.parse(row(2), formatter),\n",
    "            amount = BigDecimal(row(6).replace(\",\", \".\")),\n",
    "            comment = row(7)\n",
    "        )\n",
    "    }\n",
    "    .toDS\n",
    "\n",
    "}\n",
    "\n",
    "def isAtmLoad(t: Transaction) = t.comment contains \"STORTING\"\n",
    "\n",
    "val df = transactions.filter(!isAtmLoad(_)).toDF.registerTempTable(\"transactions\")"
   ]
  },
  {
   "cell_type": "code",
   "execution_count": 101,
   "metadata": {
    "collapsed": false
   },
   "outputs": [
    {
     "data": {
      "text/plain": [
       "476"
      ]
     },
     "execution_count": 101,
     "metadata": {},
     "output_type": "execute_result"
    }
   ],
   "source": [
    "transactions.count()"
   ]
  },
  {
   "cell_type": "code",
   "execution_count": 102,
   "metadata": {
    "collapsed": false
   },
   "outputs": [
    {
     "data": {
      "text/plain": [
       "+--------------------+\n",
       "|               saldo|\n",
       "+--------------------+\n",
       "|9086.050000000000...|\n",
       "+--------------------+\n",
       "\n"
      ]
     },
     "execution_count": 102,
     "metadata": {},
     "output_type": "execute_result"
    }
   ],
   "source": [
    "%%sql select sum(amount) as saldo from transactions"
   ]
  },
  {
   "cell_type": "code",
   "execution_count": null,
   "metadata": {
    "collapsed": true
   },
   "outputs": [],
   "source": []
  }
 ],
 "metadata": {
  "kernelspec": {
   "display_name": "Toree - Scala",
   "language": "scala",
   "name": "toree_scala"
  },
  "language_info": {
   "name": "scala"
  }
 },
 "nbformat": 4,
 "nbformat_minor": 0
}
